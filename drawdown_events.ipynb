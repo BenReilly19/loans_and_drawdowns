{
 "cells": [
  {
   "cell_type": "code",
   "execution_count": 152,
   "metadata": {},
   "outputs": [],
   "source": [
    "import pandas as pd\n",
    "import numpy as np"
   ]
  },
  {
   "cell_type": "code",
   "execution_count": 153,
   "metadata": {},
   "outputs": [],
   "source": [
    "df = pd.read_csv('download.csv')"
   ]
  },
  {
   "cell_type": "code",
   "execution_count": 154,
   "metadata": {},
   "outputs": [],
   "source": [
    "df['3day_tokenprice_mean'] = df['PRICE'].rolling(3).mean()\n",
    "df['3day_liq_amount_mean'] = df['LIQUIDATION_AMOUNT_USD'].rolling(3).mean()\n",
    "df['3day_tokenprice_std'] = df['PRICE'].rolling(3).std()\n",
    "df['3day_liq_amount_std'] = df['LIQUIDATION_AMOUNT_USD'].rolling(3).std()\n",
    "\n",
    "\n",
    "\n"
   ]
  },
  {
   "cell_type": "code",
   "execution_count": 155,
   "metadata": {},
   "outputs": [],
   "source": [
    "df[\"3day_price_shift\"] = df['PRICE'] - df['PRICE'].shift(3)\n",
    "df[\"3day_liq_amount_shift\"] = df['LIQUIDATION_AMOUNT_USD'] - df['LIQUIDATION_AMOUNT_USD'].shift(3)\n"
   ]
  },
  {
   "cell_type": "code",
   "execution_count": 156,
   "metadata": {},
   "outputs": [],
   "source": [
    "df['1std_significant_price_downtrend'] = pd.DataFrame(np.ones((len(df['3day_price_shift']) -1))).where(df['3day_price_shift'] > (-df['3day_tokenprice_std']), 0)\n",
    "df['1std_significant_liquidation_downtrend'] = pd.DataFrame(np.ones((len(df['3day_liq_amount_shift']) -1))).where(df['3day_price_shift'] < (df['3day_liq_amount_std']), 0)\n",
    "df['5std_significant_price_downtrend'] = pd.DataFrame(np.ones((len(df['3day_price_shift']) -1))).where(df['3day_price_shift'] > (-5 * df['3day_tokenprice_std']), 0)\n",
    "df['5std_significant_liquidation_downtrend'] = pd.DataFrame(np.ones((len(df['3day_liq_amount_shift']) -1))).where(df['3day_price_shift'] < (5 * df['3day_liq_amount_std']), 0)\n",
    "df['10std_significant_price_downtrend'] = pd.DataFrame(np.ones((len(df['3day_price_shift']) -1))).where(df['3day_price_shift'] > (-10 * df['3day_tokenprice_std']), 0)\n",
    "df['10std_significant_liquidation_downtrend'] = pd.DataFrame(np.ones((len(df['3day_liq_amount_shift']) -1))).where(df['3day_price_shift'] < (10 * df['3day_liq_amount_std']), 0)"
   ]
  },
  {
   "cell_type": "code",
   "execution_count": 157,
   "metadata": {},
   "outputs": [],
   "source": [
    "df['1_correlated_significant_events'] = pd.DataFrame(np.ones((len(df['3day_price_shift']) -1))).where(df['1std_significant_price_downtrend'] + df['1std_significant_liquidation_downtrend'] != 2, 0)\n",
    "df['5_correlated_significant_events'] = pd.DataFrame(np.ones((len(df['3day_price_shift']) -1))).where(df['5std_significant_price_downtrend'] + df['5std_significant_liquidation_downtrend'] != 2, 0)\n",
    "df['10_correlated_significant_events'] = pd.DataFrame(np.ones((len(df['3day_price_shift']) -1))).where(df['10std_significant_price_downtrend'] + df['10std_significant_liquidation_downtrend'] != 2, 0)"
   ]
  },
  {
   "cell_type": "code",
   "execution_count": 165,
   "metadata": {},
   "outputs": [
    {
     "name": "stdout",
     "output_type": "stream",
     "text": [
      "Number of correlated events vs. individual events for 1 std:  \n",
      "\n",
      "Number of price and liquidation events:  104.0 \n",
      "\n",
      "Number of price events:  157.0 \n",
      "\n",
      "Number of liquidation events:  258.0 \n",
      "\n",
      "Number of correlated events vs. individual events for 5 std:  \n",
      "\n",
      "Number of price and liquidation events:  18.0 \n",
      "\n",
      "Number of price events:  243.0 \n",
      "\n",
      "Number of liquidation events:  258.0 \n",
      "\n",
      "Number of correlated events vs. individual events for 10 std:  \n",
      "\n",
      "Number of price and liquidation events:  12.0 \n",
      "\n",
      "Number of price events:  249.0 \n",
      "\n",
      "Number of liquidation events:  258.0 \n",
      "\n"
     ]
    }
   ],
   "source": [
    "print(\"Number of correlated events vs. individual events for 1 std:  \\n\")\n",
    "print(\"Number of price and liquidation events: \", df['1_correlated_significant_events'].sum(), \"\\n\")\n",
    "print(\"Number of price events: \",  df['1std_significant_price_downtrend'].sum(), \"\\n\" )\n",
    "print(\"Number of liquidation events: \", df['1std_significant_liquidation_downtrend'].sum(), \"\\n\") \n",
    "print(\"Number of correlated events vs. individual events for 5 std:  \\n\")\n",
    "print(\"Number of price and liquidation events: \", df['5_correlated_significant_events'].sum(), \"\\n\")\n",
    "print(\"Number of price events: \",  df['5std_significant_price_downtrend'].sum(), \"\\n\" )\n",
    "print(\"Number of liquidation events: \", df['5std_significant_liquidation_downtrend'].sum(), \"\\n\") \n",
    "print(\"Number of correlated events vs. individual events for 10 std:  \\n\")\n",
    "print(\"Number of price and liquidation events: \", df['10_correlated_significant_events'].sum(), \"\\n\")\n",
    "print(\"Number of price events: \",  df['10std_significant_price_downtrend'].sum(), \"\\n\" )\n",
    "print(\"Number of liquidation events: \", df['10std_significant_liquidation_downtrend'].sum(), \"\\n\") "
   ]
  },
  {
   "cell_type": "code",
   "execution_count": 160,
   "metadata": {},
   "outputs": [],
   "source": [
    "def avg_recovery(price, price_shift, sig_events):\n",
    "  recovery_sum = 0\n",
    "  recovery_events = 0\n",
    "  for i in range(len(price)):\n",
    "    if sig_events[i] == 1:\n",
    "      j = i\n",
    "      if j == len(price):\n",
    "          return recovery_sum / recovery_events\n",
    "      while price[j] - price[i] < abs(price_shift[i]):\n",
    "        j = j + 1\n",
    "        if j == len(price):\n",
    "          return recovery_sum / recovery_events\n",
    "      recovery_sum += j - i\n",
    "      recovery_events += 1\n",
    "  return recovery_sum / recovery_events\n",
    "\n",
    "\n",
    "\n",
    "\n",
    "  "
   ]
  },
  {
   "cell_type": "code",
   "execution_count": 162,
   "metadata": {},
   "outputs": [
    {
     "name": "stdout",
     "output_type": "stream",
     "text": [
      "Average recovery time for a 25 std deviation correlated event 17.37\n",
      "Average recovery time for a 50 std deviation correlated event 14.833333333333334\n",
      "Average recovery time for a 75 std deviation correlated event 13.75\n"
     ]
    }
   ],
   "source": [
    "avg_price_recovery_25 = avg_recovery(list(df['PRICE']), list(df['3day_price_shift']), list(df['1_correlated_significant_events']))\n",
    "avg_price_recovery_50 = avg_recovery(list(df['PRICE']), list(df['3day_price_shift']), list(df['5_correlated_significant_events']))\n",
    "avg_price_recovery_75 = avg_recovery(list(df['PRICE']), list(df['3day_price_shift']), list(df['10_correlated_significant_events']))\n",
    "print(\"Average recovery time for a 25 std deviation correlated event\", avg_price_recovery_25)\n",
    "print(\"Average recovery time for a 50 std deviation correlated event\", avg_price_recovery_50)\n",
    "print(\"Average recovery time for a 75 std deviation correlated event\", avg_price_recovery_75)"
   ]
  },
  {
   "cell_type": "code",
   "execution_count": null,
   "metadata": {},
   "outputs": [],
   "source": []
  }
 ],
 "metadata": {
  "interpreter": {
   "hash": "aee8b7b246df8f9039afb4144a1f6fd8d2ca17a180786b69acc140d282b71a49"
  },
  "kernelspec": {
   "display_name": "Python 3.10.0 64-bit",
   "language": "python",
   "name": "python3"
  },
  "language_info": {
   "codemirror_mode": {
    "name": "ipython",
    "version": 3
   },
   "file_extension": ".py",
   "mimetype": "text/x-python",
   "name": "python",
   "nbconvert_exporter": "python",
   "pygments_lexer": "ipython3",
   "version": "3.9.7"
  },
  "orig_nbformat": 4
 },
 "nbformat": 4,
 "nbformat_minor": 2
}
